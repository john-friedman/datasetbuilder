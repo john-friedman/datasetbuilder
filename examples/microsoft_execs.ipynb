{
 "cells": [
  {
   "cell_type": "markdown",
   "metadata": {},
   "source": [
    "Construct a dataset of Microsoft's Directors & Principal officers over time. You can skip the data wrangling and head straight over to the datasetbuilder code."
   ]
  },
  {
   "cell_type": "code",
   "execution_count": null,
   "metadata": {},
   "outputs": [],
   "source": [
    "# First, lets extract every item 5.02 Departure of Directors or Principal Officers; Election of Directors; Appointment of Principal Officers. from 8-K disclosures\n",
    "\n",
    "from datamule import Portfolio\n",
    "\n",
    "portfolio = Portfolio('data/msft_8k')\n",
    "# Note: This is slow because I'm at a hotel with slow internet.\n",
    "portfolio.download_submissions(submission_type=['8-K'],ticker='MSFT', provider='sec')"
   ]
  },
  {
   "cell_type": "code",
   "execution_count": null,
   "metadata": {},
   "outputs": [],
   "source": [
    "# Now we extract item 5.02 into a new csv. We will have three columns, accession_number, filing_date, and text.\n",
    "# Note: this workflow may change in the future, as I update the datamule parser to parse more documents.\n",
    "def extract_item_5_02(submission):\n",
    "\n",
    "    try:\n",
    "        row_dict = {}\n",
    "        submission_metadata = submission.metadata['submission']\n",
    "        filing_date = submission_metadata['FILED AS OF DATE']\n",
    "        accession_number = submission_metadata['ACCESSION NUMBER']\n",
    "        for document in submission.document_type('8-K'):\n",
    "            document.parse()\n",
    "            row_dict['accession_number'] = accession_number\n",
    "            row_dict['filing_date'] = filing_date\n",
    "            row_dict['text'] = document.data['document']['item502']\n",
    "            return row_dict\n",
    "    except:\n",
    "        return None\n",
    "\n",
    "    return row_dict\n",
    "\n",
    "rows = portfolio.process_submissions(extract_item_5_02)\n",
    "rows = [row for row in rows if row]\n",
    "\n",
    "# we get 49 rows as of 1/14/25\n",
    "print(len(rows))"
   ]
  },
  {
   "cell_type": "code",
   "execution_count": 31,
   "metadata": {},
   "outputs": [],
   "source": [
    "# save to csv\n",
    "import pandas as pd\n",
    "\n",
    "df = pd.DataFrame(rows)\n",
    "df.to_csv('data/msft_8k_item_5_02.csv', index=False)"
   ]
  },
  {
   "cell_type": "code",
   "execution_count": 2,
   "metadata": {},
   "outputs": [
    {
     "name": "stderr",
     "output_type": "stream",
     "text": [
      "c:\\Users\\jgfri\\AppData\\Local\\Programs\\Python\\Python311\\Lib\\site-packages\\tqdm\\auto.py:21: TqdmWarning: IProgress not found. Please update jupyter and ipywidgets. See https://ipywidgets.readthedocs.io/en/stable/user_install.html\n",
      "  from .autonotebook import tqdm as notebook_tqdm\n"
     ]
    },
    {
     "data": {
      "text/plain": [
       "<txt2dataset.dataset_builder.DatasetBuilder at 0x265145aab90>"
      ]
     },
     "execution_count": 2,
     "metadata": {},
     "output_type": "execute_result"
    }
   ],
   "source": [
    "# Now, we build the dataset\n",
    "# Note: You can skip previous steps if you have the csv file already.\n",
    "from txt2dataset import DatasetBuilder\n",
    "import os\n",
    "\n",
    "\n",
    "builder = DatasetBuilder()\n",
    "\n",
    "builder.set_api_key(os.environ[\"GEMINI_API_KEY\"])\n",
    "\n",
    "# set base prompt, e.g. what the model looks for\n",
    "base_prompt = \"\"\"Extract officer changes and movements to JSON format.\n",
    "    Track when officers join, leave, or change roles.\n",
    "    Provide the following information:\n",
    "    - date (YYYYMMDD)\n",
    "    - name (First Middle Last)\n",
    "    - title\n",
    "    - action (one of: [\"HIRED\", \"RESIGNED\", \"TERMINATED\", \"PROMOTED\", \"TITLE_CHANGE\"])\n",
    "    Return an empty dict if info unavailable.\"\"\"\n",
    "\n",
    "response_schema = {\n",
    "    \"type\": \"ARRAY\",\n",
    "    \"items\": {\n",
    "        \"type\": \"OBJECT\",\n",
    "        \"properties\": {\n",
    "            \"date\": {\"type\": \"STRING\", \"description\": \"Date of action in YYYYMMDD format\"},\n",
    "            \"name\": {\"type\": \"STRING\", \"description\": \"Full name (First Middle Last)\"},\n",
    "            \"title\": {\"type\": \"STRING\", \"description\": \"Official title/position\"},\n",
    "            \"action\": {\n",
    "                \"type\": \"STRING\", \n",
    "                \"enum\": [\"HIRED\", \"RESIGNED\", \"TERMINATED\", \"PROMOTED\", \"TITLE_CHANGE\"],\n",
    "                \"description\": \"Type of personnel action\"\n",
    "            }\n",
    "        },\n",
    "        \"required\": [\"date\", \"name\", \"title\", \"action\"]\n",
    "    }\n",
    "}\n",
    "\n",
    "builder.set_rpm(1500)\n",
    "builder.set_model('gemini-1.5-flash-8b')"
   ]
  },
  {
   "cell_type": "code",
   "execution_count": 1,
   "metadata": {},
   "outputs": [
    {
     "ename": "NameError",
     "evalue": "name 'builder' is not defined",
     "output_type": "error",
     "traceback": [
      "\u001b[1;31m---------------------------------------------------------------------------\u001b[0m",
      "\u001b[1;31mNameError\u001b[0m                                 Traceback (most recent call last)",
      "Cell \u001b[1;32mIn[1], line 2\u001b[0m\n\u001b[0;32m      1\u001b[0m \u001b[38;5;66;03m# build the data\u001b[39;00m\n\u001b[1;32m----> 2\u001b[0m \u001b[43mbuilder\u001b[49m\u001b[38;5;241m.\u001b[39mbuild(base_prompt\u001b[38;5;241m=\u001b[39mbase_prompt,\n\u001b[0;32m      3\u001b[0m                response_schema\u001b[38;5;241m=\u001b[39mresponse_schema,\n\u001b[0;32m      4\u001b[0m                text_column\u001b[38;5;241m=\u001b[39m\u001b[38;5;124m'\u001b[39m\u001b[38;5;124mtext\u001b[39m\u001b[38;5;124m'\u001b[39m,\n\u001b[0;32m      5\u001b[0m                index_column\u001b[38;5;241m=\u001b[39m\u001b[38;5;124m'\u001b[39m\u001b[38;5;124maccession_number\u001b[39m\u001b[38;5;124m'\u001b[39m,\n\u001b[0;32m      6\u001b[0m                input_path\u001b[38;5;241m=\u001b[39m\u001b[38;5;124m\"\u001b[39m\u001b[38;5;124mdata/msft_8k_item_5_02.csv\u001b[39m\u001b[38;5;124m\"\u001b[39m,\n\u001b[0;32m      7\u001b[0m                output_path\u001b[38;5;241m=\u001b[39m\u001b[38;5;124m'\u001b[39m\u001b[38;5;124mdata/msft_officers.csv\u001b[39m\u001b[38;5;124m'\u001b[39m) \u001b[38;5;66;03m# index_column is the unique identifier, if none is specified, will use row index\u001b[39;00m\n",
      "\u001b[1;31mNameError\u001b[0m: name 'builder' is not defined"
     ]
    }
   ],
   "source": [
    "# build the data\n",
    "builder.build(base_prompt=base_prompt,\n",
    "               response_schema=response_schema,\n",
    "               text_column='text',\n",
    "               index_column='accession_number',\n",
    "               input_path=\"data/msft_8k_item_5_02.csv\",\n",
    "               output_path='data/msft_officers.csv') # index_column is the unique identifier, if none is specified, will use row index"
   ]
  },
  {
   "cell_type": "code",
   "execution_count": 3,
   "metadata": {},
   "outputs": [
    {
     "name": "stdout",
     "output_type": "stream",
     "text": [
      "Loading data...\n",
      "Standardized 28 unique values in name\n",
      "Saved standardized data to data/msft_officers_standardized.csv\n"
     ]
    }
   ],
   "source": [
    "builder.standardize(response_schema=response_schema,input_path='data/msft_officers.csv', output_path='data/msft_officers_standardized.csv',columns=['name'])"
   ]
  },
  {
   "cell_type": "code",
   "execution_count": 4,
   "metadata": {},
   "outputs": [
    {
     "name": "stdout",
     "output_type": "stream",
     "text": [
      "Loading data...\n",
      "Standardized 23 unique values in title\n",
      "Saved standardized data to data/msft_officers_standardized.csv\n"
     ]
    }
   ],
   "source": [
    "builder.standardize(response_schema=response_schema,input_path=\"data/msft_officers_standardized.csv\", output_path='data/msft_officers_standardized.csv',columns=['title'])"
   ]
  },
  {
   "cell_type": "code",
   "execution_count": 3,
   "metadata": {},
   "outputs": [
    {
     "data": {
      "text/plain": [
       "[{'input_text': 'Item 5.02 Compensatory Arrangements of Certain Officers The Compensation Committee of the Microsoft Corporation (\"Company\") Board of Directors has approved a new executive officer incentive plan (\"Plan\") for the Company\\'s executive officers. The Plan replaces the existing annual cash bonus and equity award programs for the Company\\'s executive officers beginning with fiscal year 2009. The Plan allows the Compensation Committee to establish award programs for specified performance periods (e.g., one or more fiscal years). The maximum amount payable to a participating executive officer is a percentage of an incentive pool for a performance period. For fiscal year 2009, awards will be granted from an incentive pool with maximum funding of 0.35% of Microsoft\\'s fiscal year 2009 corporate operating income. The awards granted to each participating executive officer will be limited to a fixed share of the incentive pool, and these awards may be further reduced or eliminated in the discretion of the Compensation Committee (or in the discretion of the Board of directors, for awards to the Company\\'s chief executive officer, Steven A. Ballmer). The Plan specifies a maximum amount of $20,000,000 that may be paid under the Plan to a participating executive officer for one or more performance periods that end during a fiscal year. Award amounts under the Plan may be made in either or both stock awards issued under the Microsoft Corporation 2001 Stock Plan and cash. Vesting of stock awards will be determined by the Compensation Committee. The 2001 Stock Plan generally requires that stock awards vest over at least a three-year period.',\n",
       "  'is_valid': False,\n",
       "  'reason': \"'index'\"},\n",
       " {'input_text': 'Item 5.02. Departure of Directors or Principal Officers; Election of Directors; Appointment of Principal Officers. (b) Director retirement. Charles H. Noski and Helmut Panke, each of whom has served on the Microsoft Board of Directors since 2003, have informed the Company they have decided to retire from the Board and will not seek re-election at the 2019 annual shareholders meeting on December 4, 2019. Their retirement will be effective on that date.',\n",
       "  'is_valid': False,\n",
       "  'reason': \"'index'\"},\n",
       " {'input_text': 'Item 5.02(e) Departure of Directors or Certain Officers; Election of Directors; Appointment of Certain Officers; Compensatory Arrangements of Certain Officers (e) Effective September 19, 2013 the Compensation Committee of the Board of Directors of Microsoft Corporation (the \"Company\") approved (1) the amended Microsoft Corporation Executive Officer Incentive Plan (the \"Incentive Plan\"); (2) the form of Executive Officer Incentive Plan Stock Award Agreement under the Microsoft Corporation 2001 Stock Plan (Section 162(m) Performance-Based Awards) (the \"162(m) Award Agreement\"); and (3) the form of Executive Officer Incentive Plan Stock Award Agreement under the Microsoft Corporation 2001 Stock Plan (Service-Based) (the \"Service-Based Award Agreement\"). The Company may from time to time make awards to executive officers under the Service-Based Award Agreement (\"Special Awards\") to achieve a range of objectives. These include: • Ensuring continuity of key leaders during the transition to a new chief executive officer • Preserving our competitive position by enhancing retention of key executives with critical skills of strategic importance • Recognizing sustained exceptional performance providing significant value to the Company over a period of years • Ensuring that our key executives have sufficient unvested equity to provide alignment with shareholders Special Awards will generally have the following characteristics and terms: (1) awards will be limited to the situations described above; (2) awards will vest over a period of at least thirty months; (3) awards will not exceed the share limits on individual awards under the Microsoft Corporation 2001 Stock Plan and will range from 25% to 150% of the recipient\\'s annual target compensation; (4) awards will not qualify for the retirement vesting provisions described in the Service-Based Award Agreement; (5) unvested awards will be subject to forfeiture upon termination of employment; and (6) awards will be subject to the Company\\'s executive compensation recovery policy. The summary is qualified by the text of the Incentive Plan, 162(m) Award Agreement, and Service-Based Award Agreement, copies of which are filed as exhibits to this report and incorporated herein by reference.',\n",
       "  'is_valid': False,\n",
       "  'reason': \"'index'\"},\n",
       " {'input_text': 'Item 5.02. Departure of Directors or Certain Officers; Election of Directors; Appointment of Certain Officers; Compensatory Arrangements of Certain Officers On September 10, 2010, Stephen Elop, president of the Microsoft Business Division, resigned from the Company, effective immediately. Mr. Elop has accepted the position of chief executive officer of Nokia Corporation.',\n",
       "  'is_valid': False,\n",
       "  'reason': \"'index'\"},\n",
       " {'input_text': 'Item 5.02. Departure of Directors or Principal Officers; Election of Directors; Appointment of Principal Officers. (d) On February 17, 2012, the Microsoft Corporation Board of Directors appointed John E. Thompson, age 62, to the Microsoft Board of Directors. Mr. Thompson is Chief Executive Officer and a director of Virtual Instruments Corporation, a private company. He is also a director of United Parcel Service, Inc. The press release announcing his appointment is attached as Exhibit 99.1. Mr. Thompson will receive the same compensation as other non-employee Microsoft directors, consisting of: • A total annual retainer of $250,000 per year with approximately $150,000 of the retainer provided in the form of a stock award. A prorated portion of the retainer is paid quarterly in arrears. • Reimbursement of reasonable expenses incurred in connection with board-related activities Mr. Thompson and Microsoft have entered into the standard Microsoft director indemnification agreement, whereby Microsoft agrees to indemnify, defend and hold its directors harmless from and against losses and expenses incurred as a result of their board service, subject to the terms and conditions provided in the agreement.',\n",
       "  'is_valid': False,\n",
       "  'reason': \"'index'\"}]"
      ]
     },
     "execution_count": 3,
     "metadata": {},
     "output_type": "execute_result"
    }
   ],
   "source": [
    "builder.validate(input_path='data/msft_8k_item_5_02.csv',\n",
    "                 output_path= 'data/msft_officers_standardized.csv', \n",
    "                 text_column='text',\n",
    "                 base_prompt=base_prompt,\n",
    "                 response_schema=response_schema,\n",
    "                 n=5,\n",
    "                 quiet=False)"
   ]
  }
 ],
 "metadata": {
  "kernelspec": {
   "display_name": "Python 3",
   "language": "python",
   "name": "python3"
  },
  "language_info": {
   "codemirror_mode": {
    "name": "ipython",
    "version": 3
   },
   "file_extension": ".py",
   "mimetype": "text/x-python",
   "name": "python",
   "nbconvert_exporter": "python",
   "pygments_lexer": "ipython3",
   "version": "3.11.5"
  }
 },
 "nbformat": 4,
 "nbformat_minor": 2
}
