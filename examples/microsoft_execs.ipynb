{
 "cells": [
  {
   "cell_type": "markdown",
   "metadata": {},
   "source": [
    "Construct a dataset of Microsoft's Directors & Principal officers over time. You can skip the data wrangling and head straight over to the datasetbuilder code."
   ]
  },
  {
   "cell_type": "code",
   "execution_count": null,
   "metadata": {},
   "outputs": [],
   "source": [
    "# First, lets extract every item 5.02 Departure of Directors or Principal Officers; Election of Directors; Appointment of Principal Officers. from 8-K disclosures\n",
    "\n",
    "from datamule import Portfolio\n",
    "\n",
    "portfolio = Portfolio('data/msft_8k')\n",
    "# Note: This is slow because I'm at a hotel with slow internet.\n",
    "portfolio.download_submissions(submission_type=['8-K'],ticker='MSFT', provider='sec')"
   ]
  },
  {
   "cell_type": "code",
   "execution_count": null,
   "metadata": {},
   "outputs": [],
   "source": [
    "# Now we extract item 5.02 into a new csv. We will have three columns, accession_number, filing_date, and text.\n",
    "# Note: this workflow may change in the future, as I update the datamule parser to parse more documents.\n",
    "def extract_item_5_02(submission):\n",
    "\n",
    "    try:\n",
    "        row_dict = {}\n",
    "        submission_metadata = submission.metadata['submission']\n",
    "        filing_date = submission_metadata['FILED AS OF DATE']\n",
    "        accession_number = submission_metadata['ACCESSION NUMBER']\n",
    "        for document in submission.document_type('8-K'):\n",
    "            document.parse()\n",
    "            row_dict['accession_number'] = accession_number\n",
    "            row_dict['filing_date'] = filing_date\n",
    "            row_dict['text'] = document.data['document']['item502']\n",
    "            return row_dict\n",
    "    except:\n",
    "        return None\n",
    "\n",
    "    return row_dict\n",
    "\n",
    "rows = portfolio.process_submissions(extract_item_5_02)\n",
    "rows = [row for row in rows if row]\n",
    "\n",
    "# we get 49 rows as of 1/14/25\n",
    "print(len(rows))"
   ]
  },
  {
   "cell_type": "code",
   "execution_count": 31,
   "metadata": {},
   "outputs": [],
   "source": [
    "# save to csv\n",
    "import pandas as pd\n",
    "\n",
    "df = pd.DataFrame(rows)\n",
    "df.to_csv('data/msft_8k_item_5_02.csv', index=False)"
   ]
  },
  {
   "cell_type": "code",
   "execution_count": 1,
   "metadata": {},
   "outputs": [
    {
     "name": "stderr",
     "output_type": "stream",
     "text": [
      "c:\\Users\\jgfri\\AppData\\Local\\Programs\\Python\\Python311\\Lib\\site-packages\\tqdm\\auto.py:21: TqdmWarning: IProgress not found. Please update jupyter and ipywidgets. See https://ipywidgets.readthedocs.io/en/stable/user_install.html\n",
      "  from .autonotebook import tqdm as notebook_tqdm\n"
     ]
    },
    {
     "data": {
      "text/plain": [
       "<txt2dataset.dataset_builder.DatasetBuilder at 0x1cec9511b50>"
      ]
     },
     "execution_count": 1,
     "metadata": {},
     "output_type": "execute_result"
    }
   ],
   "source": [
    "# Now, we build the dataset\n",
    "# Note: You can skip previous steps if you have the csv file already.\n",
    "from txt2dataset import DatasetBuilder\n",
    "import os\n",
    "\n",
    "\n",
    "builder = DatasetBuilder()\n",
    "\n",
    "builder.set_api_key(os.environ[\"GEMINI_API_KEY\"])\n",
    "\n",
    "# set base prompt, e.g. what the model looks for\n",
    "base_prompt = \"\"\"Extract officer changes and movements to JSON format.\n",
    "    Track when officers join, leave, or change roles.\n",
    "    Provide the following information:\n",
    "    - date (YYYYMMDD)\n",
    "    - name (First Middle Last)\n",
    "    - title\n",
    "    - action (one of: [\"HIRED\", \"RESIGNED\", \"TERMINATED\", \"PROMOTED\", \"TITLE_CHANGE\"])\n",
    "    Return an empty dict if info unavailable.\"\"\"\n",
    "\n",
    "response_schema = {\n",
    "    \"type\": \"ARRAY\",\n",
    "    \"items\": {\n",
    "        \"type\": \"OBJECT\",\n",
    "        \"properties\": {\n",
    "            \"date\": {\"type\": \"STRING\", \"description\": \"Date of action in YYYYMMDD format\"},\n",
    "            \"name\": {\"type\": \"STRING\", \"description\": \"Full name (First Middle Last)\"},\n",
    "            \"title\": {\"type\": \"STRING\", \"description\": \"Official title/position\"},\n",
    "            \"action\": {\n",
    "                \"type\": \"STRING\", \n",
    "                \"enum\": [\"HIRED\", \"RESIGNED\", \"TERMINATED\", \"PROMOTED\", \"TITLE_CHANGE\"],\n",
    "                \"description\": \"Type of personnel action\"\n",
    "            }\n",
    "        },\n",
    "        \"required\": [\"date\", \"name\", \"title\", \"action\"]\n",
    "    }\n",
    "}\n",
    "\n",
    "builder.set_rpm(1500)\n",
    "builder.set_model('gemini-1.5-flash-8b')"
   ]
  },
  {
   "cell_type": "code",
   "execution_count": 2,
   "metadata": {},
   "outputs": [
    {
     "name": "stdout",
     "output_type": "stream",
     "text": [
      "Loading data...\n",
      "Total entries in dataset: 49\n",
      "Already processed: 0\n",
      "New entries to process: 49\n"
     ]
    },
    {
     "name": "stderr",
     "output_type": "stream",
     "text": [
      "Processed 49/49 | 688 RPM | Mem: 154MB: 100%|██████████| 49/49 [00:04<00:00, 11.52it/s]"
     ]
    },
    {
     "name": "stdout",
     "output_type": "stream",
     "text": [
      "\n",
      "Processing complete:\n",
      "Total processed in this run: 49\n",
      "Average speed: 687 RPM\n",
      "Failed entries: 0\n"
     ]
    },
    {
     "name": "stderr",
     "output_type": "stream",
     "text": [
      "\n"
     ]
    }
   ],
   "source": [
    "# build the data\n",
    "builder.build(base_prompt=base_prompt,\n",
    "               response_schema=response_schema,\n",
    "               text_column='text',\n",
    "               index_column='accession_number',\n",
    "               input_path=\"data/msft_8k_item_5_02.csv\",\n",
    "               output_path='data/msft_officers.csv') # index_column is the unique identifier, if none is specified, will use row index"
   ]
  },
  {
   "cell_type": "code",
   "execution_count": 3,
   "metadata": {},
   "outputs": [
    {
     "name": "stdout",
     "output_type": "stream",
     "text": [
      "Loading data...\n",
      "Standardized 33 unique values in name\n",
      "Saved standardized data to data/msft_officers_standardized.csv\n"
     ]
    }
   ],
   "source": [
    "builder.standardize(response_schema=response_schema,input_path='data/msft_officers.csv', output_path='data/msft_officers_standardized.csv',columns=['name'])"
   ]
  },
  {
   "cell_type": "code",
   "execution_count": 4,
   "metadata": {},
   "outputs": [
    {
     "name": "stdout",
     "output_type": "stream",
     "text": [
      "Loading data...\n",
      "Standardized 27 unique values in title\n",
      "Saved standardized data to data/msft_officers_standardized.csv\n"
     ]
    }
   ],
   "source": [
    "builder.standardize(response_schema=response_schema,input_path=\"data/msft_officers_standardized.csv\", output_path='data/msft_officers_standardized.csv',columns=['title'])"
   ]
  },
  {
   "cell_type": "code",
   "execution_count": 5,
   "metadata": {},
   "outputs": [
    {
     "name": "stdout",
     "output_type": "stream",
     "text": [
      "Validation complete: 5 correct out of 5 total\n"
     ]
    }
   ],
   "source": [
    "results = builder.validate(input_path='data/msft_8k_item_5_02.csv',\n",
    "                 output_path= 'data/msft_officers_standardized.csv', \n",
    "                 text_column='text',\n",
    "                 index_column='accession_number', \n",
    "                 base_prompt=base_prompt,\n",
    "                 response_schema=response_schema,\n",
    "                 n=5,\n",
    "                 quiet=False)"
   ]
  },
  {
   "cell_type": "code",
   "execution_count": 6,
   "metadata": {},
   "outputs": [
    {
     "data": {
      "text/plain": [
       "[{'input_text': \"Item 5.02. Departure of Directors or Certain Officers; Election of Directors; Appointment of Certain Officers; Compensatory Arrangements of Certain Officers. On May 8, 2013, the Company announced the appointment of Amy Hood, age 41, to serve as chief financial officer. As chief financial officer, Ms. Hood is responsible for leading Microsoft's worldwide finance organization, including acquisitions, corporate strategy, treasury activities, tax planning, accounting and reporting, and internal audit and investor relations. Beginning in 2010, Ms. Hood was chief financial officer of the Microsoft Business Division. From 2006 through 2009, Ms. Hood was General Manager, Microsoft Business Division Strategy. Since joining Microsoft in 2002, Ms. Hood has also held positions in the Server and Tools Business and the corporate finance organization.\",\n",
       "  'process_output': [{'date': 20130508,\n",
       "    'name': 'Hood, Amy',\n",
       "    'title': 'Chief Financial Officer',\n",
       "    'action': 'HIRED'}],\n",
       "  'is_valid': True,\n",
       "  'reason': 'The generated JSON is valid and accurately reflects the information from the provided text.  It correctly identifies the appointment of Amy Hood as Chief Financial Officer on May 8, 2013, and uses the correct format for the date and action type.  No important details were missed or misrepresented.'},\n",
       " {'input_text': \"Item 5.02 Departure of Directors or Principal Officers; Election of Directors; Appointment of Principal Officers On January 10, 2008, Microsoft Corp. announced the retirement and transition plan for Jeffrey S. Raikes, president of the Microsoft Business Division. The Company also announced it has hired Stephen Elop, formerly chief operating officer of Juniper Networks, Inc., to succeed Mr. Raikes as president of the Microsoft Business Division beginning late January 2008. Mr. Raikes will continue to serve through September 2008 as a member of the Company's senior leadership team.\",\n",
       "  'process_output': [{'date': 20080110,\n",
       "    'name': 'Elop, Stephen',\n",
       "    'title': 'President of the Microsoft Business Division',\n",
       "    'action': 'HIRED'},\n",
       "   {'date': 20080110,\n",
       "    'name': 'Raikes, Jeffrey S.',\n",
       "    'title': 'President of the Microsoft Business Division',\n",
       "    'action': 'RESIGNED'}],\n",
       "  'is_valid': True,\n",
       "  'reason': 'The JSON output conforms to the specified schema and accurately reflects the information extracted from the provided text.'},\n",
       " {'input_text': 'Item 5.02. Departure of Directors or Certain Officers; Election of Directors; Appointment of Certain Officers; Compensatory Arrangements of Certain Officers. On April 12 , 2013, Peter Klein, the chief financial officer of Microsoft Corporation (the \"Company\"), informed the Company of his intention to resign his position. Mr. Klein will continue as chief financial officer until his successor is appointed and will remain an employee of the Company through June 30, 2013. The Company and Mr. Klein entered into a resignation agreement on April 18, 2013 (the \"Agreement\"), under which the Company will pay Mr. Klein $1,000,000 on January 15, 2014 and $1,000,000 on June 30, 2014 as compensation for his services during fiscal year 2013 and performance of his obligations under the Agreement. These payments are subject to forfeiture if Mr. Klein breaches the Agreement. The Agreement, filed herewith as Exhibit 99.1, includes non-competition and confidentiality provisions and a release of claims by Mr. Klein.',\n",
       "  'process_output': [{'date': 20130418,\n",
       "    'name': 'Klein, Peter',\n",
       "    'title': 'Chief Financial Officer',\n",
       "    'action': 'RESIGNED'}],\n",
       "  'is_valid': True,\n",
       "  'reason': \"The JSON output conforms to the specified schema and accurately reflects the information extracted from the input text.  The 'date' is correctly formatted, the 'name' is correctly formatted and populated, the 'title' is accurate, and the 'action' is appropriately set to 'RESIGNED'.  All required fields are present and data values are consistent with the input text.\"},\n",
       " {'input_text': 'Item 5.02. Departure of Directors or Certain Officers; Election of Directors; Appointment of Certain Officers; Compensatory Arrangements of Certain Officers. On November 19, 2009, Christopher P. Liddell, the chief financial officer of Microsoft Corporation (the \"Company\"), informed the Company of his intention to resign his position to pursue other opportunities. Mr. Liddell will remain an employee of the Company through December 31, 2009. On November 24, 2009, the Company announced the appointment of Peter Klein, age 47, to serve as chief financial officer. Since February 2006, Mr. Klein has been serving as corporate vice president and chief financial officer of the Microsoft Business Division. In this role Mr. Klein oversaw the financial performance of the businesses that comprise the Business Division, which include the Microsoft Office system of programs, servers and software-based services, Microsoft Dynamics business applications for small and midsize businesses, large organizations and divisions of global enterprises, and Microsoft\\'s Unified Communications products which provide software-based communications tools to business. He was responsible for overall financial management of the Business Division, including financial and strategic planning, reporting and analysis, as well as communications to the investment community. Prior to his role in the Business Division, Mr. Klein was chief financial officer of Microsoft\\'s Server & Tools Business Group beginning in July 2003. Mr. Klein joined Microsoft in 2002. As chief financial officer, Mr. Klein will be paid an annual base salary of $500,000 and has been approved as a participant under the Company\\'s Executive Officer Incentive Plan (the \"Incentive Plan\"). The Compensation Committee of the Board of Directors will determine the amount payable as an award under the Incentive Plan in its discretion following the end of fiscal year 2010. In making its determination the Compensation Committee will consider the recommendation of the Company\\'s chief executive officer, Steve Ballmer, which will take into account Mr.Klein\\'s performance against annual commitments and any other information Mr. Ballmer finds relevant, and Mr.Klein\\'s performance on a range of annual financial, operational and strategic measures and any other information the Committee deems relevant. After the Committee approves the award, it will be paid 20% in cash and 80% in the form of a stock award that will vest in four equal annual installments.',\n",
       "  'process_output': [{'date': 20091119,\n",
       "    'name': 'Liddell, Christopher P.',\n",
       "    'title': 'Chief Financial Officer',\n",
       "    'action': 'RESIGNED'},\n",
       "   {'date': 20091124,\n",
       "    'name': 'Klein, Peter',\n",
       "    'title': 'Chief Financial Officer',\n",
       "    'action': 'HIRED'}],\n",
       "  'is_valid': True,\n",
       "  'reason': 'The JSON output follows the schema structure, contains accurate information from the original text, and includes all necessary details.  No important details are missed or misrepresented.'},\n",
       " {'input_text': 'Item 5.02. Departure of Directors or Principal Officers; Election of Directors; Appointment of Principal Officers. (d) On July 30, 2014, Microsoft Corporation (\"Microsoft\") issued a press release to announce that the Microsoft Board of Directors appointed John Stanton to the Microsoft Board of Directors, effective immediately. Mr. Stanton, age 59, serves as chairman of Trilogy Equity Partners and Trilogy International Partners. Mr. Stanton will serve on the Compensation Committee of the Board. Mr. Stanton will receive the same compensation as other non-employee Microsoft directors as described in the Microsoft 2013 Proxy Statement under \"Director compensation.\" There is no arrangement or understanding between Mr. Stanton and any other persons pursuant to which he was selected as a director. Mr. Stanton has no direct or indirect material interest in any transaction required to be disclosed pursuant to Item 404(a) of Regulation S-K. Mr. Stanton and Microsoft have entered into the standard Microsoft director indemnification agreement, whereby Microsoft agrees to indemnify, defend and hold its directors harmless from and against losses and expenses incurred as a result of their board service, subject to the terms and conditions provided in the agreement.',\n",
       "  'process_output': [{'date': 20140730,\n",
       "    'name': 'Stanton, John',\n",
       "    'title': 'Microsoft Board of Directors',\n",
       "    'action': 'HIRED'}],\n",
       "  'is_valid': True,\n",
       "  'reason': 'The generated JSON follows the schema structure, contains appropriate data from the text, and is accurate. All required fields are present, and the data aligns with the provided text.  No important details are missed or misrepresented.'}]"
      ]
     },
     "execution_count": 6,
     "metadata": {},
     "output_type": "execute_result"
    }
   ],
   "source": [
    "results"
   ]
  },
  {
   "cell_type": "code",
   "execution_count": 5,
   "metadata": {},
   "outputs": [
    {
     "name": "stdout",
     "output_type": "stream",
     "text": [
      "\n",
      "================================================================================\n",
      "Result 1\n",
      "================================================================================\n",
      "\n",
      "Input Text:\n",
      "----------------------------------------\n",
      "Item 5.02 Departure of Directors or Certain Officers; Election of Directors; Appointment of Certain Officers; Compensatory Arrangements of Certain Officers (b) On June 30, 2016, Kevin Turner provided notice he was resigning his position as Chief Operating Officer of Microsoft.\n",
      "\n",
      "Processed Output:\n",
      "----------------------------------------\n",
      "Date: 20160630\n",
      "Name: Kevin Turner\n",
      "Title: Chief Operating Officer\n",
      "Action: RESIGNED\n",
      "--------------------\n",
      "\n",
      "Validation Status:\n",
      "----------------------------------------\n",
      "Valid: True\n",
      "Reason: The generated JSON is valid and follows the schema.  It correctly extracts the date, name, title, and action from the provided text and maps them to the expected format.  No important details are missed or misrepresented.\n",
      "\n",
      "\n",
      "================================================================================\n",
      "Result 2\n",
      "================================================================================\n",
      "\n",
      "Input Text:\n",
      "----------------------------------------\n",
      "Item 5.02. Departure of Directors or Certain Officers; Election of Directors; Appointment of Certain Officers; Compensatory Arrangements of Certain Officers. As announced on November 24, 2009, Christopher P. Liddell, the former chief financial officer of Microsoft Corporation (the \"Company\"), resigned from his position effective November 24, 2009 and will be leaving the Company December 31, 2009. The Company and Mr. Liddell entered into a resignation agreement on December 1, 2009 (the \"Agreement\"), under which the Company will pay Mr. Liddell $950,000 on December 31, 2009 and $950,000 on March 31, 2010 as compensation for his services during the first half of fiscal year 2010 and performance of his obligations under the Agreement. These payments are subject to forfeiture if Mr. Liddell breaches the Agreement. The Agreement includes confidentiality provisions and mutual releases of claims by Mr. Liddell and the Company. 2\n",
      "\n",
      "Processed Output:\n",
      "----------------------------------------\n",
      "Date: 20091124\n",
      "Name: Christopher P. Liddell\n",
      "Title: Chief Financial Officer\n",
      "Action: RESIGNED\n",
      "--------------------\n",
      "\n",
      "Validation Status:\n",
      "----------------------------------------\n",
      "Valid: True\n",
      "Reason: The generated JSON follows the specified schema and accurately reflects the information from the original text.  It correctly identifies the resignation of Christopher P. Liddell, including the date, title, and action. No critical information is missing or misrepresented.\n",
      "\n",
      "\n",
      "================================================================================\n",
      "Result 3\n",
      "================================================================================\n",
      "\n",
      "Input Text:\n",
      "----------------------------------------\n",
      "Item 5.02 Departure of Directors or Principal Officers; Election of Directors; Appointment of Principal Officers On January 10, 2008, Microsoft Corp. announced the retirement and transition plan for Jeffrey S. Raikes, president of the Microsoft Business Division. The Company also announced it has hired Stephen Elop, formerly chief operating officer of Juniper Networks, Inc., to succeed Mr. Raikes as president of the Microsoft Business Division beginning late January 2008. Mr. Raikes will continue to serve through September 2008 as a member of the Company's senior leadership team.\n",
      "\n",
      "Processed Output:\n",
      "----------------------------------------\n",
      "Date: 20080110\n",
      "Name: Stephen Elop\n",
      "Title: President, Microsoft Business Division\n",
      "Action: HIRED\n",
      "--------------------\n",
      "Date: 20080110\n",
      "Name: Jeffrey S. Raikes\n",
      "Title: President, Microsoft Business Division\n",
      "Action: RESIGNED\n",
      "--------------------\n",
      "\n",
      "Validation Status:\n",
      "----------------------------------------\n",
      "Valid: True\n",
      "Reason: The generated JSON follows the provided schema and accurately reflects the information present in the original text. All required fields are present, and the data aligns with the context.  The date format is correct (YYYYMMDD), and the action types are valid.\n",
      "\n",
      "\n",
      "================================================================================\n",
      "Result 4\n",
      "================================================================================\n",
      "\n",
      "Input Text:\n",
      "----------------------------------------\n",
      "Item 5.02 Departure of Directors or Principal Officers; Election of Directors; Appointment of Principal Officers. (c) On April 13, 2006, Microsoft Corporation (\"Microsoft\") issued a press release to announce that Frank H. Brod, age 51, is joining Microsoft as Corporate Vice President, Finance and Administration and Chief Accounting Officer, beginning May 1, 2006. Prior to joining Microsoft, Mr. Brod was Corporate Vice President and Controller of Dow Chemical Company since 2000. Mr. Brod's employment at Microsoft will be at-will. He will receive a salary of $411,000 per year. He will be eligible for an annual cash performance bonus ranging from 0% to 120% of eligible salary. In addition, Mr. Brod will participate in Microsoft's Shared Performance Stock Award (\"SPSA\") Program, with a target SPSA award of 25,000 shares of Microsoft common stock. The actual size of the award will be determined based on the company's performance against the program measures. Mr. Brod will receive a signing bonus of $300,000, with the first installment of $200,000 payable within 30 days of his start date, and the remaining $100,000 payable within 30 days following the first anniversary of his start date. If Mr. Brod leaves the company voluntarily or due to termination for reasons other than death or permanent and total disability before completing one year of employment, $200,000 must be returned to Microsoft; if he leaves the company in the same circumstances after completing one year but before completing two years of employment, he must return the second installment of $100,000. Mr. Brod will receive an on-hire stock grant of 35,000 shares of Microsoft Corporation common stock, 33% of which vests on the first anniversary of his start date and the remaining part of which will vest in differing proportions over his second to fifth anniversaries. In connection with his employment, Mr. Brod will be eligible to receive benefits under Microsoft's executive relocation assistance program, including having Microsoft arrange for a third party to purchase his two residences at their appraised value if they are not sold as of a mutually agreed date. He will also receive a relocation allowance of $450,000, which is subject to forfeiture if Mr. Brod leaves Microsoft of his own volition before completing 24 months of employment. A copy of Mr. Brod's offer of employment from Microsoft is attached to this filing.\n",
      "\n",
      "Processed Output:\n",
      "----------------------------------------\n",
      "Date: 20060501\n",
      "Name: Frank H Brod\n",
      "Title: Corporate Vice President, Finance and Administration and Chief Accounting Officer\n",
      "Action: HIRED\n",
      "--------------------\n",
      "\n",
      "Validation Status:\n",
      "----------------------------------------\n",
      "Valid: True\n",
      "Reason: The JSON follows the schema, contains accurate information from the provided text, and includes all necessary fields.  The date is formatted correctly as YYYYMMDD, and the action is appropriately set to HIRED.\n",
      "\n",
      "\n",
      "================================================================================\n",
      "Result 5\n",
      "================================================================================\n",
      "\n",
      "Input Text:\n",
      "----------------------------------------\n",
      "Item 5.02. Departure of Directors or Certain Officers; Election of Directors; Appointment of Certain Officers; Compensatory Arrangements of Certain Officers. On July 1, 2020 the Company announced that Frank H. Brod, Corporate Vice President, Finance and Administration and Chief Accounting Officer, is retiring from his position. Mr. Brod will step down from his role as Chief Accounting Officer (the Company's principal accounting officer) on July 31, 2020, but will remain with the Company through September 30, 2020 to assist in transition of the Company's new Chief Accounting Officer. On July 1, 2020 the Company also announced that Alice L. Jolla, age 54, will become Corporate Vice President and Chief Accounting Officer effective July 31, 2020. Ms. Jolla has served as Corporate Controller for Microsoft since 2014, leading the corporate accounting function for the Company. Ms. Jolla also served as Senior Director, Financial Planning and Analysis, from 2012 to 2014, and as Senior Director, Corporate Accounting from 2008 to 2012. Prior to joining the Company, Ms. Jolla was a Financial Accounting Standards Board (FASB) Industry Fellow from 2005 to 2007, and prior to that held various accounting and finance-related positions at Dow Chemical and Union Carbide. In connection with her appointment as Chief Accounting Officer, Ms. Jolla will receive a stock award of $1.5 million under the Microsoft Corporation 2017 Stock Plan, which will vest 6.25% every quarter, provided Ms. Jolla remains continuously employed. The number of shares to be issued under the stock award will be determined by dividing the dollar value of the stock award by the closing price of Microsoft common stock on the grant date.\n",
      "\n",
      "Processed Output:\n",
      "----------------------------------------\n",
      "Date: 20200731\n",
      "Name: Frank H. Brod\n",
      "Title: Corporate Vice President, Finance and Administration and Chief Accounting Officer\n",
      "Action: RESIGNED\n",
      "--------------------\n",
      "Date: 20200731\n",
      "Name: Alice L. Jolla\n",
      "Title: Corporate Vice President and Chief Accounting Officer\n",
      "Action: HIRED\n",
      "--------------------\n",
      "\n",
      "Validation Status:\n",
      "----------------------------------------\n",
      "Valid: True\n",
      "Reason: The generated JSON follows the schema structure, contains accurate information from the provided text, and includes all necessary details.\n",
      "\n"
     ]
    }
   ],
   "source": [
    "def print_validation_results(results):\n",
    "    \"\"\"\n",
    "    Print validation results in a formatted, readable way\n",
    "    \n",
    "    Args:\n",
    "        results (list): List of dictionaries containing validation results\n",
    "    \"\"\"\n",
    "    for i, result in enumerate(results, 1):\n",
    "        print(f\"\\n{'='*80}\")\n",
    "        print(f\"Result {i}\")\n",
    "        print(f\"{'='*80}\")\n",
    "        \n",
    "        # Print input text\n",
    "        print(\"\\nInput Text:\")\n",
    "        print(\"-\" * 40)\n",
    "        print(result['input_text'])\n",
    "        \n",
    "        # Print processed outputs\n",
    "        print(\"\\nProcessed Output:\")\n",
    "        print(\"-\" * 40)\n",
    "        for output in result['process_output']:\n",
    "            print(f\"Date: {output['date']}\")\n",
    "            print(f\"Name: {output['name']}\")\n",
    "            print(f\"Title: {output['title']}\")\n",
    "            print(f\"Action: {output['action']}\")\n",
    "            print(\"-\" * 20)\n",
    "        \n",
    "        # Print validation status\n",
    "        print(\"\\nValidation Status:\")\n",
    "        print(\"-\" * 40)\n",
    "        print(f\"Valid: {result['is_valid']}\")\n",
    "        if 'reason' in result:\n",
    "            print(f\"Reason: {result['reason']}\")\n",
    "        print()\n",
    "\n",
    "print_validation_results(results)"
   ]
  },
  {
   "cell_type": "markdown",
   "metadata": {},
   "source": [
    "Results are pretty good for a simple response schema. Quick reminder - this is in early development, and it was created by stapling a bunch of LLM stuff together. Will need work, and will get better over the next few months."
   ]
  }
 ],
 "metadata": {
  "kernelspec": {
   "display_name": "Python 3",
   "language": "python",
   "name": "python3"
  },
  "language_info": {
   "codemirror_mode": {
    "name": "ipython",
    "version": 3
   },
   "file_extension": ".py",
   "mimetype": "text/x-python",
   "name": "python",
   "nbconvert_exporter": "python",
   "pygments_lexer": "ipython3",
   "version": "3.11.5"
  }
 },
 "nbformat": 4,
 "nbformat_minor": 2
}
